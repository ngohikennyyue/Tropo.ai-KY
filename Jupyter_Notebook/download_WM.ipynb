{
 "cells": [
  {
   "attachments": {},
   "cell_type": "markdown",
   "metadata": {},
   "source": [
    "Import library"
   ]
  },
  {
   "cell_type": "code",
   "execution_count": 6,
   "metadata": {},
   "outputs": [],
   "source": [
    "import os\n",
    "import RAiDER\n",
    "import numpy as np\n",
    "import pandas as pd\n",
    "import datetime\n",
    "import xarray\n",
    "import matplotlib.pyplot as plt\n",
    "from RAiDER.processWM import prepareWeatherModel\n",
    "from RAiDER.models.era5 import ERA5\n"
   ]
  },
  {
   "cell_type": "code",
   "execution_count": 8,
   "metadata": {},
   "outputs": [],
   "source": [
    "# Set up a custom logging location\n",
    "log_dir = './logs/'\n",
    "if not os.path.exists(log_dir):\n",
    "    os.mkdir(log_dir)"
   ]
  },
  {
   "cell_type": "code",
   "execution_count": 9,
   "metadata": {},
   "outputs": [
    {
     "name": "stdout",
     "output_type": "stream",
     "text": [
      "Tutorial directory:  /Users/kennyyue/Tropo.ai-KY/Jupyter_Notebook\n",
      "Work directory:  /Users/kennyyue/Tropo.ai-KY/Jupyter_Notebook\n"
     ]
    }
   ],
   "source": [
    "## Defining the home and data directories\n",
    "tutorial_home_dir = os.path.abspath(os.getcwd())\n",
    "work_dir = os.path.abspath(os.getcwd())\n",
    "print(\"Tutorial directory: \", tutorial_home_dir)\n",
    "print(\"Work directory: \", work_dir)\n",
    "\n",
    "# Verifying if RAiDER is installed correctly\n",
    "try:\n",
    "    import RAiDER\n",
    "except:\n",
    "    raise Exception('RAiDER is missing from your PYTHONPATH')\n",
    "\n",
    "os.chdir(work_dir)"
   ]
  },
  {
   "attachments": {},
   "cell_type": "markdown",
   "metadata": {},
   "source": [
    "Download Weather model"
   ]
  },
  {
   "attachments": {},
   "cell_type": "markdown",
   "metadata": {},
   "source": [
    "We will utilize RAiDER to download weather model data to a reguylar 3D cube and write the data to a NETCDF file that will be used to predict delays at specified query points"
   ]
  },
  {
   "cell_type": "code",
   "execution_count": 10,
   "metadata": {},
   "outputs": [
    {
     "name": "stdout",
     "output_type": "stream",
     "text": [
      "['ERA5', 'ERA5T', 'ERAI', 'MERRA2', 'WRF', 'HRRR', 'GMAO', 'HDF5', 'HRES', 'NCMR']\n"
     ]
    }
   ],
   "source": [
    "# Print and check the available weather model in RAiDER\n",
    "from RAiDER.models.allowed import ALLOWED_MODELS\n",
    "print(ALLOWED_MODELS)"
   ]
  },
  {
   "cell_type": "code",
   "execution_count": 11,
   "metadata": {},
   "outputs": [],
   "source": [
    "# First define datetime, and AOI\n",
    "date_time = datetime.datetime(2018,11,13, 23, 0, 0)\n",
    "\n",
    "# bounding box is given in SNWE format\n",
    "ll_bounds = [36.8, 36.85, -76.15, -76.05]"
   ]
  },
  {
   "cell_type": "code",
   "execution_count": 12,
   "metadata": {},
   "outputs": [
    {
     "name": "stdout",
     "output_type": "stream",
     "text": [
      "Help on function prepareWeatherModel in module RAiDER.processWM:\n",
      "\n",
      "prepareWeatherModel(weatherDict, time=None, wmLoc=None, lats=None, lons=None, zref=None, download_only=False, makePlots=False, force_download=False)\n",
      "    Parse inputs to download and prepare a weather model grid for interpolation\n",
      "\n"
     ]
    }
   ],
   "source": [
    "help(prepareWeatherModel)"
   ]
  },
  {
   "cell_type": "code",
   "execution_count": 18,
   "metadata": {},
   "outputs": [],
   "source": [
    "# The HRRR model from NOAA can be accessed for free\n",
    "from RAiDER.models.hrrr import HRRR"
   ]
  },
  {
   "cell_type": "code",
   "execution_count": 20,
   "metadata": {},
   "outputs": [],
   "source": [
    "weather_model = HRRR()"
   ]
  },
  {
   "cell_type": "code",
   "execution_count": 22,
   "metadata": {},
   "outputs": [
    {
     "ename": "TypeError",
     "evalue": "'HRRR' object is not subscriptable",
     "output_type": "error",
     "traceback": [
      "\u001b[0;31m---------------------------------------------------------------------------\u001b[0m",
      "\u001b[0;31mTypeError\u001b[0m                                 Traceback (most recent call last)",
      "\u001b[1;32m/Users/kennyyue/Tropo.ai-KY/Jupyter_Notebook/download_WM.ipynb Cell 12\u001b[0m in \u001b[0;36m<cell line: 2>\u001b[0;34m()\u001b[0m\n\u001b[1;32m      <a href='vscode-notebook-cell:/Users/kennyyue/Tropo.ai-KY/Jupyter_Notebook/download_WM.ipynb#X26sZmlsZQ%3D%3D?line=0'>1</a>\u001b[0m \u001b[39m# For the first example, we'll do a zenith calculation at the weather model grid nodes\u001b[39;00m\n\u001b[0;32m----> <a href='vscode-notebook-cell:/Users/kennyyue/Tropo.ai-KY/Jupyter_Notebook/download_WM.ipynb#X26sZmlsZQ%3D%3D?line=1'>2</a>\u001b[0m prepareWeatherModel(weather_model, date_time, makePlots\u001b[39m=\u001b[39;49m\u001b[39mTrue\u001b[39;49;00m)\n",
      "File \u001b[0;32m~/opt/anaconda3/envs/RAiDER/lib/python3.10/site-packages/RAiDER-0.0.1-py3.10-macosx-10.9-x86_64.egg/RAiDER/processWM.py:30\u001b[0m, in \u001b[0;36mprepareWeatherModel\u001b[0;34m(weatherDict, time, wmLoc, lats, lons, zref, download_only, makePlots, force_download)\u001b[0m\n\u001b[1;32m     16\u001b[0m \u001b[39mdef\u001b[39;00m \u001b[39mprepareWeatherModel\u001b[39m(\n\u001b[1;32m     17\u001b[0m     weatherDict,\n\u001b[1;32m     18\u001b[0m     time\u001b[39m=\u001b[39m\u001b[39mNone\u001b[39;00m,\n\u001b[0;32m   (...)\u001b[0m\n\u001b[1;32m     25\u001b[0m     force_download\u001b[39m=\u001b[39m\u001b[39mFalse\u001b[39;00m,\n\u001b[1;32m     26\u001b[0m ):\n\u001b[1;32m     27\u001b[0m \u001b[39m    \u001b[39m\u001b[39m'''\u001b[39;00m\n\u001b[1;32m     28\u001b[0m \u001b[39m    Parse inputs to download and prepare a weather model grid for interpolation\u001b[39;00m\n\u001b[1;32m     29\u001b[0m \u001b[39m    '''\u001b[39;00m\n\u001b[0;32m---> 30\u001b[0m     weather_model, weather_files \u001b[39m=\u001b[39m (weatherDict[\u001b[39m'\u001b[39;49m\u001b[39mtype\u001b[39;49m\u001b[39m'\u001b[39;49m],\n\u001b[1;32m     31\u001b[0m                                     weatherDict[\u001b[39m'\u001b[39m\u001b[39mfiles\u001b[39m\u001b[39m'\u001b[39m]\n\u001b[1;32m     32\u001b[0m                                     )\n\u001b[1;32m     33\u001b[0m     weather_model\u001b[39m.\u001b[39mfiles \u001b[39m=\u001b[39m weather_files\n\u001b[1;32m     35\u001b[0m     \u001b[39m# Ensure the file output location exists\u001b[39;00m\n",
      "\u001b[0;31mTypeError\u001b[0m: 'HRRR' object is not subscriptable"
     ]
    }
   ],
   "source": [
    "# For the first example, we'll do a zenith calculation at the weather model grid nodes\n",
    "prepareWeatherModel(weather_model, date_time, makePlots=True)"
   ]
  },
  {
   "cell_type": "code",
   "execution_count": 19,
   "metadata": {},
   "outputs": [
    {
     "ename": "TypeError",
     "evalue": "'ERA5' object is not subscriptable",
     "output_type": "error",
     "traceback": [
      "\u001b[0;31m---------------------------------------------------------------------------\u001b[0m",
      "\u001b[0;31mTypeError\u001b[0m                                 Traceback (most recent call last)",
      "\u001b[1;32m/Users/kennyyue/Tropo.ai-KY/Jupyter_Notebook/download_WM.ipynb Cell 11\u001b[0m in \u001b[0;36m<cell line: 1>\u001b[0;34m()\u001b[0m\n\u001b[0;32m----> <a href='vscode-notebook-cell:/Users/kennyyue/Tropo.ai-KY/Jupyter_Notebook/download_WM.ipynb#X14sZmlsZQ%3D%3D?line=0'>1</a>\u001b[0m prepareWeatherModel(weather_model, date_time, ll_bounds)\n",
      "File \u001b[0;32m~/opt/anaconda3/envs/RAiDER/lib/python3.10/site-packages/RAiDER-0.0.1-py3.10-macosx-10.9-x86_64.egg/RAiDER/processWM.py:30\u001b[0m, in \u001b[0;36mprepareWeatherModel\u001b[0;34m(weatherDict, time, wmLoc, lats, lons, zref, download_only, makePlots, force_download)\u001b[0m\n\u001b[1;32m     16\u001b[0m \u001b[39mdef\u001b[39;00m \u001b[39mprepareWeatherModel\u001b[39m(\n\u001b[1;32m     17\u001b[0m     weatherDict,\n\u001b[1;32m     18\u001b[0m     time\u001b[39m=\u001b[39m\u001b[39mNone\u001b[39;00m,\n\u001b[0;32m   (...)\u001b[0m\n\u001b[1;32m     25\u001b[0m     force_download\u001b[39m=\u001b[39m\u001b[39mFalse\u001b[39;00m,\n\u001b[1;32m     26\u001b[0m ):\n\u001b[1;32m     27\u001b[0m \u001b[39m    \u001b[39m\u001b[39m'''\u001b[39;00m\n\u001b[1;32m     28\u001b[0m \u001b[39m    Parse inputs to download and prepare a weather model grid for interpolation\u001b[39;00m\n\u001b[1;32m     29\u001b[0m \u001b[39m    '''\u001b[39;00m\n\u001b[0;32m---> 30\u001b[0m     weather_model, weather_files \u001b[39m=\u001b[39m (weatherDict[\u001b[39m'\u001b[39;49m\u001b[39mtype\u001b[39;49m\u001b[39m'\u001b[39;49m],\n\u001b[1;32m     31\u001b[0m                                     weatherDict[\u001b[39m'\u001b[39m\u001b[39mfiles\u001b[39m\u001b[39m'\u001b[39m]\n\u001b[1;32m     32\u001b[0m                                     )\n\u001b[1;32m     33\u001b[0m     weather_model\u001b[39m.\u001b[39mfiles \u001b[39m=\u001b[39m weather_files\n\u001b[1;32m     35\u001b[0m     \u001b[39m# Ensure the file output location exists\u001b[39;00m\n",
      "\u001b[0;31mTypeError\u001b[0m: 'ERA5' object is not subscriptable"
     ]
    }
   ],
   "source": [
    "prepareWeatherModel(weather_model, date_time, ll_bounds)"
   ]
  },
  {
   "cell_type": "code",
   "execution_count": 3,
   "metadata": {},
   "outputs": [
    {
     "name": "stdout",
     "output_type": "stream",
     "text": [
      "zsh:1: command not found: raider.py\n"
     ]
    }
   ],
   "source": [
    "!raider.py -h"
   ]
  }
 ],
 "metadata": {
  "kernelspec": {
   "display_name": "TropoAI",
   "language": "python",
   "name": "python3"
  },
  "language_info": {
   "codemirror_mode": {
    "name": "ipython",
    "version": 3
   },
   "file_extension": ".py",
   "mimetype": "text/x-python",
   "name": "python",
   "nbconvert_exporter": "python",
   "pygments_lexer": "ipython3",
   "version": "3.10.4"
  },
  "orig_nbformat": 4
 },
 "nbformat": 4,
 "nbformat_minor": 2
}
